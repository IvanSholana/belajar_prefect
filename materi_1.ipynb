{
 "cells": [
  {
   "cell_type": "markdown",
   "id": "33bb220b",
   "metadata": {},
   "source": [
    "## **Workflow Orchestration**\n",
    "\n",
    "Workflow orchestration adalah proses mengatur dan mengelola urutan tugas-tugas atau **task** secara otomatis dalam sebuah alur kerja **workflow** sehingga tugas-tugas tersebut berjalan dengan `urutan`, `kondisi`, dan `ketergantungan yang benar`. Adapun jika menggunakan workflow orchestration maka akan dapat:\n",
    "- Setiap step otomatis dijalankan secara berurutan.\n",
    "- Bisa dijalankan ulang jika gagal.\n",
    "- Bisa dijalankan secara terjadwal.\n",
    "- Dapat dimonitoring dengan melihat log dan status.\n",
    "- Bisa berjalan secara pararel jika tugasnya tidak saling tergantung."
   ]
  },
  {
   "cell_type": "markdown",
   "id": "f8dc2d43",
   "metadata": {},
   "source": [
    "## **Terminologi Utama dalam Prefect**"
   ]
  },
  {
   "cell_type": "code",
   "execution_count": 5,
   "id": "3c65a02a",
   "metadata": {},
   "outputs": [],
   "source": [
    "from prefect import flow,task"
   ]
  },
  {
   "cell_type": "markdown",
   "id": "3f87841e",
   "metadata": {},
   "source": [
    "### **1. FLOW**\n",
    "Alur kerja utama yang terdiri dari satu atau lebih tugas (task)"
   ]
  },
  {
   "cell_type": "code",
   "execution_count": null,
   "id": "1e393afc",
   "metadata": {},
   "outputs": [],
   "source": [
    "@flow\n",
    "def my_flow():\n",
    "    print(\"This is my flow!\")\n",
    "    return \"Flow completed successfully!\""
   ]
  },
  {
   "cell_type": "markdown",
   "id": "2acceec7",
   "metadata": {},
   "source": [
    "### **2. Task**\n",
    "Unit kerja terkecil dalam sebuah flow, biasanya berupa fungsi Python yang melakukan satu hal."
   ]
  },
  {
   "cell_type": "code",
   "execution_count": 7,
   "id": "c4377a25",
   "metadata": {},
   "outputs": [],
   "source": [
    "@task\n",
    "def my_task():\n",
    "    print(\"This is my task!\")\n",
    "    return \"Task completed successfully!\""
   ]
  },
  {
   "cell_type": "markdown",
   "id": "3a7f2c74",
   "metadata": {},
   "source": [
    "### **3. State**\n",
    "Status akhir dari flow atau task, misalnya: `Completed`, `Failed`, `Running`, `Retrying` yang mana digunakan untuk monitoring dan debugging.\n",
    "\n",
    "### **4. Deployment**\n",
    "Versi dari flow yang siap jalan dan dijadwalkan melalui pemanggilan via API atau dijalankan oleh Agent\n",
    "\n",
    "### **5. Agent**\n",
    "Worker yang bertugas menjalankan flow yang sudah dideploy. Agent inilah yang akan mendeteksi apakah ada flow yang perlu dijalankan di work queue atau tidak.\n",
    "\n",
    "### **6. Work Queue**\n",
    "Antrian tugas yang menunggu dijalankan oleh agent. Antrian tugas ini berupa flow yang dikirim ke work queue dan akan diambil dan dijalankan oleh agent.\n",
    "\n",
    "### **7. Flow dan Task Run**\n",
    "Flow Run merupakan satu eksekusi dari flow sedangkan Task Run merupakan satu eksekusi dari task dalam suatu flow."
   ]
  },
  {
   "cell_type": "code",
   "execution_count": 1,
   "id": "98f5d50c",
   "metadata": {},
   "outputs": [],
   "source": [
    "import requests\n",
    "from prefect import task, flow\n",
    "\n",
    "@task(retries=3, retry_delay_seconds=2)\n",
    "def get_cat_fact():\n",
    "    response = requests.get(\"https://catfact.ninja/fact\")\n",
    "    if response.status_code == 200:\n",
    "        return response.json().get(\"fact\", \"No fact found\")\n",
    "    else:\n",
    "        raise Exception(\"Failed to fetch cat fact\")\n",
    "\n",
    "@flow(name=\"Cat Fact Flow\")\n",
    "def cat_fact_flow():\n",
    "    fact = get_cat_fact()\n",
    "    print(f\"Cat Fact: {fact}\")"
   ]
  }
 ],
 "metadata": {
  "kernelspec": {
   "display_name": "hero",
   "language": "python",
   "name": "python3"
  },
  "language_info": {
   "codemirror_mode": {
    "name": "ipython",
    "version": 3
   },
   "file_extension": ".py",
   "mimetype": "text/x-python",
   "name": "python",
   "nbconvert_exporter": "python",
   "pygments_lexer": "ipython3",
   "version": "3.10.18"
  }
 },
 "nbformat": 4,
 "nbformat_minor": 5
}
